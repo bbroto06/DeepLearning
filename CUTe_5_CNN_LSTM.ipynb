{
 "cells": [
  {
   "cell_type": "code",
   "execution_count": 3,
   "metadata": {
    "colab": {
     "base_uri": "https://localhost:8080/",
     "height": 51
    },
    "colab_type": "code",
    "id": "o0kMutsmf-ln",
    "outputId": "4014130c-2c27-441e-9213-da8edd26f23a"
   },
   "outputs": [
    {
     "name": "stdout",
     "output_type": "stream",
     "text": [
      "\n",
      "Redirecting output to ‘wget-log.1’.\n"
     ]
    }
   ],
   "source": [
    "!wget  https://s3.us-east-2.amazonaws.com/audiosamplesyk/train.csv"
   ]
  },
  {
   "cell_type": "code",
   "execution_count": 1,
   "metadata": {
    "colab": {
     "base_uri": "https://localhost:8080/",
     "height": 51
    },
    "colab_type": "code",
    "id": "ZB4tB7ahgDZz",
    "outputId": "ebec2940-4e33-460e-d773-fe16dd1b4e71"
   },
   "outputs": [
    {
     "name": "stdout",
     "output_type": "stream",
     "text": [
      "\n",
      "Redirecting output to ‘wget-log’.\n"
     ]
    }
   ],
   "source": [
    "!wget https://s3.us-east-2.amazonaws.com/audiosamplesyk/test.csv"
   ]
  },
  {
   "cell_type": "code",
   "execution_count": 2,
   "metadata": {
    "colab": {
     "base_uri": "https://localhost:8080/",
     "height": 34
    },
    "colab_type": "code",
    "id": "J_kX8vsNgKbS",
    "outputId": "1b863b00-5286-489e-e539-bb26d38b76e6"
   },
   "outputs": [
    {
     "name": "stdout",
     "output_type": "stream",
     "text": [
      "sample_data  test.csv  wget-log\n"
     ]
    }
   ],
   "source": [
    "!ls"
   ]
  },
  {
   "cell_type": "markdown",
   "metadata": {
    "colab_type": "text",
    "id": "ls3BF4NHspz5"
   },
   "source": [
    "### Import Tensorflow library"
   ]
  },
  {
   "cell_type": "code",
   "execution_count": 5,
   "metadata": {
    "colab": {
     "base_uri": "https://localhost:8080/",
     "height": 34
    },
    "colab_type": "code",
    "id": "xvXbWF7XsQea",
    "outputId": "fb225a65-5152-4f5c-ffa4-fd8a8c89af08"
   },
   "outputs": [
    {
     "name": "stderr",
     "output_type": "stream",
     "text": [
      "Using TensorFlow backend.\n"
     ]
    }
   ],
   "source": [
    "import os\n",
    "import sys\n",
    "import numpy as np\n",
    "import pandas as pd\n",
    "from keras.preprocessing.text import Tokenizer\n",
    "from keras.preprocessing.sequence import pad_sequences\n",
    "from keras.utils import to_categorical\n",
    "from keras.layers import Dense, Input, GlobalMaxPooling1D\n",
    "from keras.layers import Conv1D, MaxPooling1D, Embedding\n",
    "from keras.models import Model"
   ]
  },
  {
   "cell_type": "markdown",
   "metadata": {
    "colab_type": "text",
    "id": "IiLntIyyw3s9"
   },
   "source": [
    "#### Read the data set"
   ]
  },
  {
   "cell_type": "code",
   "execution_count": 0,
   "metadata": {
    "colab": {},
    "colab_type": "code",
    "id": "m6Dl_LQTw8fG"
   },
   "outputs": [],
   "source": [
    "df_train = pd.read_csv(\"train.csv\")\n",
    "\n",
    "df_test = pd.read_csv(\"test.csv\")"
   ]
  },
  {
   "cell_type": "markdown",
   "metadata": {
    "colab_type": "text",
    "id": "mUNtCtpnyuMp"
   },
   "source": []
  },
  {
   "cell_type": "markdown",
   "metadata": {
    "colab_type": "text",
    "id": "D9ZMU7B8ywes"
   },
   "source": []
  },
  {
   "cell_type": "markdown",
   "metadata": {
    "colab_type": "text",
    "id": "C9MTNqkgyzVJ"
   },
   "source": [
    "#### Read head and tail of the data set"
   ]
  },
  {
   "cell_type": "code",
   "execution_count": 7,
   "metadata": {
    "colab": {
     "base_uri": "https://localhost:8080/",
     "height": 204
    },
    "colab_type": "code",
    "id": "Q-ap4jMwy3qM",
    "outputId": "31d1e042-bd31-43e4-9011-3732f8055958"
   },
   "outputs": [
    {
     "data": {
      "text/html": [
       "<div>\n",
       "<style scoped>\n",
       "    .dataframe tbody tr th:only-of-type {\n",
       "        vertical-align: middle;\n",
       "    }\n",
       "\n",
       "    .dataframe tbody tr th {\n",
       "        vertical-align: top;\n",
       "    }\n",
       "\n",
       "    .dataframe thead th {\n",
       "        text-align: right;\n",
       "    }\n",
       "</style>\n",
       "<table border=\"1\" class=\"dataframe\">\n",
       "  <thead>\n",
       "    <tr style=\"text-align: right;\">\n",
       "      <th></th>\n",
       "      <th>ID</th>\n",
       "      <th>categories</th>\n",
       "      <th>converse</th>\n",
       "    </tr>\n",
       "  </thead>\n",
       "  <tbody>\n",
       "    <tr>\n",
       "      <th>0</th>\n",
       "      <td>2</td>\n",
       "      <td>ASK_A_DOCTOR</td>\n",
       "      <td>mom wants to know if the drugname needs some d...</td>\n",
       "    </tr>\n",
       "    <tr>\n",
       "      <th>1</th>\n",
       "      <td>3</td>\n",
       "      <td>ASK_A_DOCTOR</td>\n",
       "      <td>patients to discuss drugname she says she has ...</td>\n",
       "    </tr>\n",
       "    <tr>\n",
       "      <th>2</th>\n",
       "      <td>5</td>\n",
       "      <td>MISCELLANEOUS</td>\n",
       "      <td>letter of patient establishment request name s...</td>\n",
       "    </tr>\n",
       "    <tr>\n",
       "      <th>3</th>\n",
       "      <td>6</td>\n",
       "      <td>APPOINTMENTS</td>\n",
       "      <td>appointment question name mom appointments pat...</td>\n",
       "    </tr>\n",
       "    <tr>\n",
       "      <th>4</th>\n",
       "      <td>8</td>\n",
       "      <td>MISCELLANEOUS</td>\n",
       "      <td>please refax neurocog order to new wake medici...</td>\n",
       "    </tr>\n",
       "  </tbody>\n",
       "</table>\n",
       "</div>"
      ],
      "text/plain": [
       "   ID     categories                                           converse\n",
       "0   2   ASK_A_DOCTOR  mom wants to know if the drugname needs some d...\n",
       "1   3   ASK_A_DOCTOR  patients to discuss drugname she says she has ...\n",
       "2   5  MISCELLANEOUS  letter of patient establishment request name s...\n",
       "3   6   APPOINTMENTS  appointment question name mom appointments pat...\n",
       "4   8  MISCELLANEOUS  please refax neurocog order to new wake medici..."
      ]
     },
     "execution_count": 7,
     "metadata": {
      "tags": []
     },
     "output_type": "execute_result"
    }
   ],
   "source": [
    "df_train.head(5)"
   ]
  },
  {
   "cell_type": "code",
   "execution_count": 8,
   "metadata": {
    "colab": {
     "base_uri": "https://localhost:8080/",
     "height": 204
    },
    "colab_type": "code",
    "id": "mwgXojnizttM",
    "outputId": "8ace4779-3ade-456f-f662-ddb6fa371421"
   },
   "outputs": [
    {
     "data": {
      "text/html": [
       "<div>\n",
       "<style scoped>\n",
       "    .dataframe tbody tr th:only-of-type {\n",
       "        vertical-align: middle;\n",
       "    }\n",
       "\n",
       "    .dataframe tbody tr th {\n",
       "        vertical-align: top;\n",
       "    }\n",
       "\n",
       "    .dataframe thead th {\n",
       "        text-align: right;\n",
       "    }\n",
       "</style>\n",
       "<table border=\"1\" class=\"dataframe\">\n",
       "  <thead>\n",
       "    <tr style=\"text-align: right;\">\n",
       "      <th></th>\n",
       "      <th>ID</th>\n",
       "      <th>converse</th>\n",
       "    </tr>\n",
       "  </thead>\n",
       "  <tbody>\n",
       "    <tr>\n",
       "      <th>11450</th>\n",
       "      <td>57265</td>\n",
       "      <td>requesting drugname prior authorization be exp...</td>\n",
       "    </tr>\n",
       "    <tr>\n",
       "      <th>11451</th>\n",
       "      <td>57266</td>\n",
       "      <td>checking status of prior auth pain name patien...</td>\n",
       "    </tr>\n",
       "    <tr>\n",
       "      <th>11452</th>\n",
       "      <td>57269</td>\n",
       "      <td>lm for parent to cb to schedule rov with maure...</td>\n",
       "    </tr>\n",
       "    <tr>\n",
       "      <th>11453</th>\n",
       "      <td>57270</td>\n",
       "      <td>duragesic and drugname refill work phone patie...</td>\n",
       "    </tr>\n",
       "    <tr>\n",
       "      <th>11454</th>\n",
       "      <td>57275</td>\n",
       "      <td>patients wife would like a cb name spouse othe...</td>\n",
       "    </tr>\n",
       "  </tbody>\n",
       "</table>\n",
       "</div>"
      ],
      "text/plain": [
       "          ID                                           converse\n",
       "11450  57265  requesting drugname prior authorization be exp...\n",
       "11451  57266  checking status of prior auth pain name patien...\n",
       "11452  57269  lm for parent to cb to schedule rov with maure...\n",
       "11453  57270  duragesic and drugname refill work phone patie...\n",
       "11454  57275  patients wife would like a cb name spouse othe..."
      ]
     },
     "execution_count": 8,
     "metadata": {
      "tags": []
     },
     "output_type": "execute_result"
    }
   ],
   "source": [
    "df_test.tail(5)"
   ]
  },
  {
   "cell_type": "code",
   "execution_count": 9,
   "metadata": {
    "colab": {
     "base_uri": "https://localhost:8080/",
     "height": 34
    },
    "colab_type": "code",
    "id": "I8XJsTDfz-gk",
    "outputId": "b6884419-6a5f-4b7b-ba2c-ae60d4434681"
   },
   "outputs": [
    {
     "data": {
      "text/plain": [
       "(45825, 3)"
      ]
     },
     "execution_count": 9,
     "metadata": {
      "tags": []
     },
     "output_type": "execute_result"
    }
   ],
   "source": [
    "df_train.shape"
   ]
  },
  {
   "cell_type": "code",
   "execution_count": 10,
   "metadata": {
    "colab": {
     "base_uri": "https://localhost:8080/",
     "height": 34
    },
    "colab_type": "code",
    "id": "FfTrNW9F0IcU",
    "outputId": "300a6784-4273-4e56-b7bb-657d3601f346"
   },
   "outputs": [
    {
     "data": {
      "text/plain": [
       "(11455, 2)"
      ]
     },
     "execution_count": 10,
     "metadata": {
      "tags": []
     },
     "output_type": "execute_result"
    }
   ],
   "source": [
    "df_test.shape"
   ]
  },
  {
   "cell_type": "markdown",
   "metadata": {
    "colab_type": "text",
    "id": "rj9AQ0yU4O6l"
   },
   "source": [
    "#### Check for structure and summary of the data set\n"
   ]
  },
  {
   "cell_type": "code",
   "execution_count": 11,
   "metadata": {
    "colab": {
     "base_uri": "https://localhost:8080/",
     "height": 153
    },
    "colab_type": "code",
    "id": "wYNGGpni4R21",
    "outputId": "be69276c-8f62-4918-b9a2-8f26f142a359"
   },
   "outputs": [
    {
     "name": "stdout",
     "output_type": "stream",
     "text": [
      "<class 'pandas.core.frame.DataFrame'>\n",
      "RangeIndex: 45825 entries, 0 to 45824\n",
      "Data columns (total 3 columns):\n",
      "ID            45825 non-null int64\n",
      "categories    45825 non-null object\n",
      "converse      45796 non-null object\n",
      "dtypes: int64(1), object(2)\n",
      "memory usage: 1.0+ MB\n"
     ]
    }
   ],
   "source": [
    "df_train.info()"
   ]
  },
  {
   "cell_type": "code",
   "execution_count": 13,
   "metadata": {
    "colab": {
     "base_uri": "https://localhost:8080/",
     "height": 136
    },
    "colab_type": "code",
    "id": "WKXpYnnm6dac",
    "outputId": "0a33e28e-8944-433a-8e59-0cd4108af397"
   },
   "outputs": [
    {
     "name": "stdout",
     "output_type": "stream",
     "text": [
      "<class 'pandas.core.frame.DataFrame'>\n",
      "RangeIndex: 11455 entries, 0 to 11454\n",
      "Data columns (total 2 columns):\n",
      "ID          11455 non-null int64\n",
      "converse    11448 non-null object\n",
      "dtypes: int64(1), object(1)\n",
      "memory usage: 179.1+ KB\n"
     ]
    }
   ],
   "source": [
    "df_test.info()"
   ]
  },
  {
   "cell_type": "code",
   "execution_count": 14,
   "metadata": {
    "colab": {
     "base_uri": "https://localhost:8080/",
     "height": 51
    },
    "colab_type": "code",
    "id": "kqHLWIeF7L2n",
    "outputId": "4a6a145d-df43-419e-feb0-c2425eaf5487"
   },
   "outputs": [
    {
     "name": "stdout",
     "output_type": "stream",
     "text": [
      "Index(['ID', 'categories', 'converse'], dtype='object')\n",
      "No. of unique classes 6\n"
     ]
    }
   ],
   "source": [
    "print(df_train.columns)\n",
    "print('No. of unique classes',len(set(df_train['categories'])))"
   ]
  },
  {
   "cell_type": "code",
   "execution_count": 15,
   "metadata": {
    "colab": {
     "base_uri": "https://localhost:8080/",
     "height": 51
    },
    "colab_type": "code",
    "id": "jq39OB2D_wYu",
    "outputId": "c6c5c34f-3c18-4171-a7e2-9da946637c8d"
   },
   "outputs": [
    {
     "data": {
      "text/plain": [
       "array(['ASK_A_DOCTOR', 'MISCELLANEOUS', 'APPOINTMENTS', 'LAB',\n",
       "       'PRESCRIPTION', 'JUNK'], dtype=object)"
      ]
     },
     "execution_count": 15,
     "metadata": {
      "tags": []
     },
     "output_type": "execute_result"
    }
   ],
   "source": [
    "df_train.categories.unique()"
   ]
  },
  {
   "cell_type": "markdown",
   "metadata": {
    "colab_type": "text",
    "id": "O6kfOxDABk_G"
   },
   "source": [
    "#### Check for null value"
   ]
  },
  {
   "cell_type": "code",
   "execution_count": 16,
   "metadata": {
    "colab": {
     "base_uri": "https://localhost:8080/",
     "height": 85
    },
    "colab_type": "code",
    "id": "fm59Yc27Alvz",
    "outputId": "3dece900-b828-4a04-de6b-cb21780f2b14"
   },
   "outputs": [
    {
     "data": {
      "text/plain": [
       "ID             0\n",
       "categories     0\n",
       "converse      29\n",
       "dtype: int64"
      ]
     },
     "execution_count": 16,
     "metadata": {
      "tags": []
     },
     "output_type": "execute_result"
    }
   ],
   "source": [
    "df_train.isnull().sum()"
   ]
  },
  {
   "cell_type": "code",
   "execution_count": 17,
   "metadata": {
    "colab": {
     "base_uri": "https://localhost:8080/",
     "height": 68
    },
    "colab_type": "code",
    "id": "_AYslNxRBWqx",
    "outputId": "f68994ae-ae42-44f4-cf48-957524c1a100"
   },
   "outputs": [
    {
     "data": {
      "text/plain": [
       "ID          0\n",
       "converse    7\n",
       "dtype: int64"
      ]
     },
     "execution_count": 17,
     "metadata": {
      "tags": []
     },
     "output_type": "execute_result"
    }
   ],
   "source": [
    "df_test.isnull().sum()"
   ]
  },
  {
   "cell_type": "markdown",
   "metadata": {
    "colab_type": "text",
    "id": "KnkF2NReCO87"
   },
   "source": [
    "#### Check for the rows having null values"
   ]
  },
  {
   "cell_type": "code",
   "execution_count": 18,
   "metadata": {
    "colab": {
     "base_uri": "https://localhost:8080/",
     "height": 527
    },
    "colab_type": "code",
    "id": "BXBlVYXhCTFW",
    "outputId": "4df6aef9-0f9e-4f15-c486-78c44af894f6"
   },
   "outputs": [
    {
     "name": "stdout",
     "output_type": "stream",
     "text": [
      "          ID     categories converse\n",
      "551      682  MISCELLANEOUS      NaN\n",
      "2207    2749  MISCELLANEOUS      NaN\n",
      "5328    6688           JUNK      NaN\n",
      "9688   12086           JUNK      NaN\n",
      "10195  12694   APPOINTMENTS      NaN\n",
      "12782  15924           JUNK      NaN\n",
      "12831  15996  MISCELLANEOUS      NaN\n",
      "14144  17639           JUNK      NaN\n",
      "14207  17721           JUNK      NaN\n",
      "14767  18432           JUNK      NaN\n",
      "15888  19830  MISCELLANEOUS      NaN\n",
      "15905  19852  MISCELLANEOUS      NaN\n",
      "19580  24492           JUNK      NaN\n",
      "20678  25887           JUNK      NaN\n",
      "20760  25991  MISCELLANEOUS      NaN\n",
      "21474  26892  MISCELLANEOUS      NaN\n",
      "22960  28731           JUNK      NaN\n",
      "23029  28817           JUNK      NaN\n",
      "24152  30198  MISCELLANEOUS      NaN\n",
      "24407  30512  MISCELLANEOUS      NaN\n",
      "27780  34727  MISCELLANEOUS      NaN\n",
      "28106  35140  MISCELLANEOUS      NaN\n",
      "29548  36966  MISCELLANEOUS      NaN\n",
      "30219  37810  MISCELLANEOUS      NaN\n",
      "30635  38328  MISCELLANEOUS      NaN\n",
      "35446  44341  MISCELLANEOUS      NaN\n",
      "37623  47057  MISCELLANEOUS      NaN\n",
      "39805  49786  MISCELLANEOUS      NaN\n",
      "41110  51405  MISCELLANEOUS      NaN\n"
     ]
    }
   ],
   "source": [
    "tr_nan_idx = df_train[pd.isnull(df_train['converse'])].index.tolist()\n",
    "\n",
    "print(df_train.loc[tr_nan_idx])"
   ]
  },
  {
   "cell_type": "code",
   "execution_count": 19,
   "metadata": {
    "colab": {
     "base_uri": "https://localhost:8080/",
     "height": 153
    },
    "colab_type": "code",
    "id": "cWmhulnVCt3L",
    "outputId": "a0f4ae52-223d-4f28-a342-95a13e1edb1c"
   },
   "outputs": [
    {
     "name": "stdout",
     "output_type": "stream",
     "text": [
      "         ID converse\n",
      "2811  14194      NaN\n",
      "3603  18173      NaN\n",
      "4447  22293      NaN\n",
      "6261  31275      NaN\n",
      "6737  33762      NaN\n",
      "9539  47537      NaN\n",
      "9702  48370      NaN\n"
     ]
    }
   ],
   "source": [
    "ts_nan_idx = df_test[pd.isnull(df_test['converse'])].index.tolist()\n",
    "\n",
    "print(df_test.loc[ts_nan_idx])"
   ]
  },
  {
   "cell_type": "markdown",
   "metadata": {
    "colab_type": "text",
    "id": "nfhmMuDJD0ID"
   },
   "source": [
    "#### Replace NaN  value with White space"
   ]
  },
  {
   "cell_type": "code",
   "execution_count": 0,
   "metadata": {
    "colab": {},
    "colab_type": "code",
    "id": "zHZraHioD7KE"
   },
   "outputs": [],
   "source": [
    "df_train.loc[tr_nan_idx, 'converse'] = ' '\n",
    "df_test.loc[ts_nan_idx, 'converse'] = ' '"
   ]
  },
  {
   "cell_type": "code",
   "execution_count": 21,
   "metadata": {
    "colab": {
     "base_uri": "https://localhost:8080/",
     "height": 153
    },
    "colab_type": "code",
    "id": "CkIHkwnpEQHO",
    "outputId": "c06dfeec-9c3b-44d3-b829-f16ec762f3fc"
   },
   "outputs": [
    {
     "name": "stdout",
     "output_type": "stream",
     "text": [
      "         ID converse\n",
      "2811  14194         \n",
      "3603  18173         \n",
      "4447  22293         \n",
      "6261  31275         \n",
      "6737  33762         \n",
      "9539  47537         \n",
      "9702  48370         \n"
     ]
    }
   ],
   "source": [
    "print(df_test.loc[ts_nan_idx])"
   ]
  },
  {
   "cell_type": "code",
   "execution_count": 22,
   "metadata": {
    "colab": {
     "base_uri": "https://localhost:8080/",
     "height": 527
    },
    "colab_type": "code",
    "id": "2t9AFAHTETyd",
    "outputId": "9f896757-08cb-4f4d-d662-7445066c6c3a"
   },
   "outputs": [
    {
     "name": "stdout",
     "output_type": "stream",
     "text": [
      "          ID     categories converse\n",
      "551      682  MISCELLANEOUS         \n",
      "2207    2749  MISCELLANEOUS         \n",
      "5328    6688           JUNK         \n",
      "9688   12086           JUNK         \n",
      "10195  12694   APPOINTMENTS         \n",
      "12782  15924           JUNK         \n",
      "12831  15996  MISCELLANEOUS         \n",
      "14144  17639           JUNK         \n",
      "14207  17721           JUNK         \n",
      "14767  18432           JUNK         \n",
      "15888  19830  MISCELLANEOUS         \n",
      "15905  19852  MISCELLANEOUS         \n",
      "19580  24492           JUNK         \n",
      "20678  25887           JUNK         \n",
      "20760  25991  MISCELLANEOUS         \n",
      "21474  26892  MISCELLANEOUS         \n",
      "22960  28731           JUNK         \n",
      "23029  28817           JUNK         \n",
      "24152  30198  MISCELLANEOUS         \n",
      "24407  30512  MISCELLANEOUS         \n",
      "27780  34727  MISCELLANEOUS         \n",
      "28106  35140  MISCELLANEOUS         \n",
      "29548  36966  MISCELLANEOUS         \n",
      "30219  37810  MISCELLANEOUS         \n",
      "30635  38328  MISCELLANEOUS         \n",
      "35446  44341  MISCELLANEOUS         \n",
      "37623  47057  MISCELLANEOUS         \n",
      "39805  49786  MISCELLANEOUS         \n",
      "41110  51405  MISCELLANEOUS         \n"
     ]
    }
   ],
   "source": [
    "print(df_train.loc[tr_nan_idx])"
   ]
  },
  {
   "cell_type": "markdown",
   "metadata": {
    "colab_type": "text",
    "id": "eLRM1aUvE7oV"
   },
   "source": [
    "#### Confirm for the exsistance of null values"
   ]
  },
  {
   "cell_type": "code",
   "execution_count": 23,
   "metadata": {
    "colab": {
     "base_uri": "https://localhost:8080/",
     "height": 85
    },
    "colab_type": "code",
    "id": "QTn6rUbuE_jt",
    "outputId": "787a7534-8b3a-4979-d131-d6a2ccf98aa9"
   },
   "outputs": [
    {
     "data": {
      "text/plain": [
       "ID            0\n",
       "categories    0\n",
       "converse      0\n",
       "dtype: int64"
      ]
     },
     "execution_count": 23,
     "metadata": {
      "tags": []
     },
     "output_type": "execute_result"
    }
   ],
   "source": [
    "df_train.isnull().sum()"
   ]
  },
  {
   "cell_type": "code",
   "execution_count": 24,
   "metadata": {
    "colab": {
     "base_uri": "https://localhost:8080/",
     "height": 68
    },
    "colab_type": "code",
    "id": "3DAkOnvlFYfH",
    "outputId": "ddef1ccd-829e-45ce-c30a-ccc2458b757e"
   },
   "outputs": [
    {
     "data": {
      "text/plain": [
       "ID          0\n",
       "converse    0\n",
       "dtype: int64"
      ]
     },
     "execution_count": 24,
     "metadata": {
      "tags": []
     },
     "output_type": "execute_result"
    }
   ],
   "source": [
    "df_test.isnull().sum()"
   ]
  },
  {
   "cell_type": "markdown",
   "metadata": {
    "colab_type": "text",
    "id": "aiFqf-spJs05"
   },
   "source": [
    "#### Assign multi class label to a numerical values"
   ]
  },
  {
   "cell_type": "code",
   "execution_count": 0,
   "metadata": {
    "colab": {},
    "colab_type": "code",
    "id": "mYVYxmHtJvum"
   },
   "outputs": [],
   "source": [
    "sort=sorted(set(df_train['categories']))\n",
    "labels_index = dict((text, number) for text, number in enumerate(sort))"
   ]
  },
  {
   "cell_type": "code",
   "execution_count": 26,
   "metadata": {
    "colab": {
     "base_uri": "https://localhost:8080/",
     "height": 119
    },
    "colab_type": "code",
    "id": "bduKdtk3KTb-",
    "outputId": "4d327ffa-328c-4409-8b0a-073443a095e8"
   },
   "outputs": [
    {
     "data": {
      "text/plain": [
       "{0: 'APPOINTMENTS',\n",
       " 1: 'ASK_A_DOCTOR',\n",
       " 2: 'JUNK',\n",
       " 3: 'LAB',\n",
       " 4: 'MISCELLANEOUS',\n",
       " 5: 'PRESCRIPTION'}"
      ]
     },
     "execution_count": 26,
     "metadata": {
      "tags": []
     },
     "output_type": "execute_result"
    }
   ],
   "source": [
    "labels_index"
   ]
  },
  {
   "cell_type": "code",
   "execution_count": 0,
   "metadata": {
    "colab": {},
    "colab_type": "code",
    "id": "QC-6491GK7QQ"
   },
   "outputs": [],
   "source": [
    "texts = df_train.converse\n",
    "labels = df_train.categories\n",
    "ts_texts = df_test.converse"
   ]
  },
  {
   "cell_type": "markdown",
   "metadata": {
    "colab_type": "text",
    "id": "Kb2SxjadMJza"
   },
   "source": [
    "#### Text Preprocessing using by using keras"
   ]
  },
  {
   "cell_type": "code",
   "execution_count": 0,
   "metadata": {
    "colab": {},
    "colab_type": "code",
    "id": "2TbLYID1MIfe"
   },
   "outputs": [],
   "source": [
    "MAX_SEQUENCE_LENGTH = 1000\n",
    "MAX_NUM_WORDS = 20000\n",
    "EMBEDDING_DIM = 100\n",
    "VALIDATION_SPLIT = 0.2\n",
    "nb_epochs = 60"
   ]
  },
  {
   "cell_type": "code",
   "execution_count": 29,
   "metadata": {
    "colab": {
     "base_uri": "https://localhost:8080/",
     "height": 34
    },
    "colab_type": "code",
    "id": "jWL-JYIUMQgK",
    "outputId": "286612b7-42c5-44ca-bd7e-d0eedc76d351"
   },
   "outputs": [
    {
     "name": "stdout",
     "output_type": "stream",
     "text": [
      "Number of Unique Tokens 34769\n"
     ]
    }
   ],
   "source": [
    "tokenizer = Tokenizer(num_words=MAX_NUM_WORDS)\n",
    "tokenizer.fit_on_texts(texts)\n",
    "sequences = tokenizer.texts_to_sequences(texts)\n",
    "ts_sequences = tokenizer.texts_to_sequences(ts_texts)\n",
    "\n",
    "word_index = tokenizer.word_index\n",
    "print('Number of Unique Tokens',len(word_index))"
   ]
  },
  {
   "cell_type": "code",
   "execution_count": 0,
   "metadata": {
    "colab": {},
    "colab_type": "code",
    "id": "4XIqrTYQNTeR"
   },
   "outputs": [],
   "source": [
    "# converts the character array to numeric array. Assigns levels to unique labels.\n",
    "from sklearn.preprocessing import LabelEncoder\n",
    "le = LabelEncoder()                 \n",
    "le.fit(labels)\n",
    "train_labels = le.transform(labels)"
   ]
  },
  {
   "cell_type": "code",
   "execution_count": 32,
   "metadata": {
    "colab": {
     "base_uri": "https://localhost:8080/",
     "height": 51
    },
    "colab_type": "code",
    "id": "M__O9r11Nus5",
    "outputId": "093fdcc7-5df5-4203-c426-2c737278eec6"
   },
   "outputs": [
    {
     "name": "stdout",
     "output_type": "stream",
     "text": [
      "Shape of Data Tensor: (45825, 1000)\n",
      "Shape of Label Tensor: (45825, 6)\n"
     ]
    }
   ],
   "source": [
    "data = pad_sequences(sequences, maxlen=MAX_SEQUENCE_LENGTH)\n",
    "ts_data = pad_sequences(ts_sequences, maxlen=MAX_SEQUENCE_LENGTH)\n",
    "labels = to_categorical(np.asarray(train_labels))\n",
    "print('Shape of Data Tensor:', data.shape)\n",
    "print('Shape of Label Tensor:', labels.shape)"
   ]
  },
  {
   "cell_type": "markdown",
   "metadata": {
    "colab_type": "text",
    "id": "lrmZDLxdPbQE"
   },
   "source": [
    "#### Splitting into train and test"
   ]
  },
  {
   "cell_type": "code",
   "execution_count": 0,
   "metadata": {
    "colab": {},
    "colab_type": "code",
    "id": "alHpwidsPf5f"
   },
   "outputs": [],
   "source": [
    "indices = np.arange(data.shape[0])\n",
    "np.random.shuffle(indices)\n",
    "data = data[indices]\n",
    "labels = labels[indices]\n",
    "nb_validation_samples = int(VALIDATION_SPLIT * data.shape[0])\n",
    "\n",
    "x_train = data[:-nb_validation_samples]\n",
    "y_train = labels[:-nb_validation_samples]\n",
    "x_val = data[-nb_validation_samples:]\n",
    "y_val = labels[-nb_validation_samples:]"
   ]
  },
  {
   "cell_type": "markdown",
   "metadata": {
    "colab_type": "text",
    "id": "vndTCzVNQhKt"
   },
   "source": [
    "#### Build index mapping words in the embeddings set to their embedding vector"
   ]
  },
  {
   "cell_type": "markdown",
   "metadata": {
    "colab_type": "text",
    "id": "gOqUksCNQ1bR"
   },
   "source": [
    "#### Prepare embedding matrix"
   ]
  },
  {
   "cell_type": "code",
   "execution_count": 34,
   "metadata": {
    "colab": {
     "base_uri": "https://localhost:8080/",
     "height": 51
    },
    "colab_type": "code",
    "id": "y134980OxqXz",
    "outputId": "4df8ea76-710b-4187-ac3e-9d836bc9618a"
   },
   "outputs": [
    {
     "name": "stdout",
     "output_type": "stream",
     "text": [
      "\n",
      "Redirecting output to ‘wget-log.2’.\n"
     ]
    }
   ],
   "source": [
    "!wget https://s3.amazonaws.com/audiosampleyug/glove.6B.100d.txt "
   ]
  },
  {
   "cell_type": "code",
   "execution_count": 35,
   "metadata": {
    "colab": {
     "base_uri": "https://localhost:8080/",
     "height": 34
    },
    "colab_type": "code",
    "id": "dPhuWcQ4xnxK",
    "outputId": "aecc8127-75e0-49c8-8d70-4f6e3e694046"
   },
   "outputs": [
    {
     "name": "stdout",
     "output_type": "stream",
     "text": [
      "Total 400000 word vectors in Glove 6B 100d.\n"
     ]
    }
   ],
   "source": [
    "embeddings_index = {}\n",
    "f = open('glove.6B.100d.txt',encoding='utf8')\n",
    "for line in f:\n",
    "    values = line.split()\n",
    "    word = values[0]\n",
    "    coefs = np.asarray(values[1:], dtype='float32')\n",
    "    embeddings_index[word] = coefs\n",
    "f.close()\n",
    "\n",
    "print('Total %s word vectors in Glove 6B 100d.' % len(embeddings_index))"
   ]
  },
  {
   "cell_type": "code",
   "execution_count": 0,
   "metadata": {
    "colab": {},
    "colab_type": "code",
    "id": "T0kyhlZhQ3V2"
   },
   "outputs": [],
   "source": [
    "num_words = len(word_index) + 1\n",
    "embedding_matrix = np.random.random((len(word_index) + 1, EMBEDDING_DIM))\n",
    "for word, i in word_index.items():\n",
    "    embedding_vector = embeddings_index.get(word)\n",
    "    if embedding_vector is not None:\n",
    "        # words not found in embedding index will be all-zeros.\n",
    "        embedding_matrix[i] = embedding_vector\n",
    "\n",
    "embedding_layer = Embedding(len(word_index) + 1,\n",
    "                            EMBEDDING_DIM,weights=[embedding_matrix],\n",
    "                            input_length=MAX_SEQUENCE_LENGTH,trainable=True)"
   ]
  },
  {
   "cell_type": "markdown",
   "metadata": {
    "colab_type": "text",
    "id": "vI5Ci3ENRRrO"
   },
   "source": [
    "#### 1D-CNN - GLOVE Vectors"
   ]
  },
  {
   "cell_type": "code",
   "execution_count": 37,
   "metadata": {
    "colab": {
     "base_uri": "https://localhost:8080/",
     "height": 510
    },
    "colab_type": "code",
    "id": "oJOB7h5yRUc-",
    "outputId": "8ea78b38-4ae0-46cf-b7ec-6e6f32b6e8ef"
   },
   "outputs": [
    {
     "name": "stdout",
     "output_type": "stream",
     "text": [
      "Training model.\n",
      "Simple convolutional neural network\n",
      "_________________________________________________________________\n",
      "Layer (type)                 Output Shape              Param #   \n",
      "=================================================================\n",
      "input_1 (InputLayer)         (None, 1000)              0         \n",
      "_________________________________________________________________\n",
      "embedding_1 (Embedding)      (None, 1000, 100)         3477000   \n",
      "_________________________________________________________________\n",
      "conv1d_1 (Conv1D)            (None, 996, 128)          64128     \n",
      "_________________________________________________________________\n",
      "max_pooling1d_1 (MaxPooling1 (None, 199, 128)          0         \n",
      "_________________________________________________________________\n",
      "conv1d_2 (Conv1D)            (None, 195, 128)          82048     \n",
      "_________________________________________________________________\n",
      "max_pooling1d_2 (MaxPooling1 (None, 39, 128)           0         \n",
      "_________________________________________________________________\n",
      "conv1d_3 (Conv1D)            (None, 35, 128)           82048     \n",
      "_________________________________________________________________\n",
      "global_max_pooling1d_1 (Glob (None, 128)               0         \n",
      "_________________________________________________________________\n",
      "dense_1 (Dense)              (None, 128)               16512     \n",
      "_________________________________________________________________\n",
      "dense_2 (Dense)              (None, 6)                 774       \n",
      "=================================================================\n",
      "Total params: 3,722,510\n",
      "Trainable params: 3,722,510\n",
      "Non-trainable params: 0\n",
      "_________________________________________________________________\n"
     ]
    }
   ],
   "source": [
    "print('Training model.')\n",
    "\n",
    "# train a 1D convnet with global maxpooling\n",
    "sequence_input = Input(shape=(MAX_SEQUENCE_LENGTH,), dtype='int32')\n",
    "embedded_sequences = embedding_layer(sequence_input)\n",
    "x = Conv1D(128, 5, activation='relu')(embedded_sequences)\n",
    "x = MaxPooling1D(5)(x)\n",
    "x = Conv1D(128, 5, activation='relu')(x)\n",
    "x = MaxPooling1D(5)(x)\n",
    "x = Conv1D(128, 5, activation='relu')(x)\n",
    "x = GlobalMaxPooling1D()(x)\n",
    "x = Dense(128, activation='relu')(x)\n",
    "preds = Dense(len(labels_index), activation='softmax')(x)\n",
    "\n",
    "from keras.optimizers import Adam\n",
    "adam = Adam(lr=0.001)\n",
    "model1 = Model(sequence_input, preds)\n",
    "model1.compile(loss='categorical_crossentropy',\n",
    "              optimizer=adam,\n",
    "              metrics=['acc'])\n",
    "\n",
    "print(\"Simple convolutional neural network\")\n",
    "model1.summary()\n",
    "from keras.callbacks import ModelCheckpoint\n",
    "cp=ModelCheckpoint('model_cnn.hdf5',monitor='val_acc',verbose=1,save_best_only=True)"
   ]
  },
  {
   "cell_type": "code",
   "execution_count": 38,
   "metadata": {
    "colab": {
     "base_uri": "https://localhost:8080/",
     "height": 4114
    },
    "colab_type": "code",
    "id": "YydcOcdMRbcl",
    "outputId": "9526956c-dae3-41d8-cff0-8ca33b395928"
   },
   "outputs": [
    {
     "name": "stdout",
     "output_type": "stream",
     "text": [
      "Train on 36660 samples, validate on 9165 samples\n",
      "Epoch 1/60\n",
      "36660/36660 [==============================] - 26s 699us/step - loss: 0.8281 - acc: 0.6849 - val_loss: 0.5985 - val_acc: 0.7812\n",
      "\n",
      "Epoch 00001: val_acc improved from -inf to 0.78123, saving model to model_cnn.hdf5\n",
      "Epoch 2/60\n",
      "36660/36660 [==============================] - 23s 636us/step - loss: 0.5231 - acc: 0.8094 - val_loss: 0.5219 - val_acc: 0.8092\n",
      "\n",
      "Epoch 00002: val_acc improved from 0.78123 to 0.80917, saving model to model_cnn.hdf5\n",
      "Epoch 3/60\n",
      "36660/36660 [==============================] - 23s 636us/step - loss: 0.4423 - acc: 0.8383 - val_loss: 0.5174 - val_acc: 0.8083\n",
      "\n",
      "Epoch 00003: val_acc did not improve from 0.80917\n",
      "Epoch 4/60\n",
      "36660/36660 [==============================] - 23s 637us/step - loss: 0.3833 - acc: 0.8599 - val_loss: 0.5073 - val_acc: 0.8143\n",
      "\n",
      "Epoch 00004: val_acc improved from 0.80917 to 0.81429, saving model to model_cnn.hdf5\n",
      "Epoch 5/60\n",
      "36660/36660 [==============================] - 23s 638us/step - loss: 0.3223 - acc: 0.8809 - val_loss: 0.5616 - val_acc: 0.8041\n",
      "\n",
      "Epoch 00005: val_acc did not improve from 0.81429\n",
      "Epoch 6/60\n",
      "36660/36660 [==============================] - 23s 636us/step - loss: 0.2477 - acc: 0.9113 - val_loss: 0.5937 - val_acc: 0.7993\n",
      "\n",
      "Epoch 00006: val_acc did not improve from 0.81429\n",
      "Epoch 7/60\n",
      "36660/36660 [==============================] - 23s 634us/step - loss: 0.1974 - acc: 0.9298 - val_loss: 0.7031 - val_acc: 0.7890\n",
      "\n",
      "Epoch 00007: val_acc did not improve from 0.81429\n",
      "Epoch 8/60\n",
      "36660/36660 [==============================] - 23s 636us/step - loss: 0.1236 - acc: 0.9575 - val_loss: 0.8341 - val_acc: 0.7878\n",
      "\n",
      "Epoch 00008: val_acc did not improve from 0.81429\n",
      "Epoch 9/60\n",
      "36660/36660 [==============================] - 23s 637us/step - loss: 0.0824 - acc: 0.9719 - val_loss: 1.0108 - val_acc: 0.7847\n",
      "\n",
      "Epoch 00009: val_acc did not improve from 0.81429\n",
      "Epoch 10/60\n",
      "36660/36660 [==============================] - 23s 637us/step - loss: 0.0549 - acc: 0.9821 - val_loss: 1.1615 - val_acc: 0.7824\n",
      "\n",
      "Epoch 00010: val_acc did not improve from 0.81429\n",
      "Epoch 11/60\n",
      "36660/36660 [==============================] - 23s 636us/step - loss: 0.0378 - acc: 0.9878 - val_loss: 1.3994 - val_acc: 0.7674\n",
      "\n",
      "Epoch 00011: val_acc did not improve from 0.81429\n",
      "Epoch 12/60\n",
      "36660/36660 [==============================] - 23s 635us/step - loss: 0.0387 - acc: 0.9867 - val_loss: 1.1838 - val_acc: 0.7901\n",
      "\n",
      "Epoch 00012: val_acc did not improve from 0.81429\n",
      "Epoch 13/60\n",
      "36660/36660 [==============================] - 23s 635us/step - loss: 0.0560 - acc: 0.9795 - val_loss: 1.1844 - val_acc: 0.7912\n",
      "\n",
      "Epoch 00013: val_acc did not improve from 0.81429\n",
      "Epoch 14/60\n",
      "36660/36660 [==============================] - 23s 634us/step - loss: 0.0394 - acc: 0.9866 - val_loss: 1.3066 - val_acc: 0.7878\n",
      "\n",
      "Epoch 00014: val_acc did not improve from 0.81429\n",
      "Epoch 15/60\n",
      "36660/36660 [==============================] - 23s 636us/step - loss: 0.0246 - acc: 0.9916 - val_loss: 1.4172 - val_acc: 0.7915\n",
      "\n",
      "Epoch 00015: val_acc did not improve from 0.81429\n",
      "Epoch 16/60\n",
      "36660/36660 [==============================] - 23s 636us/step - loss: 0.0220 - acc: 0.9929 - val_loss: 1.4274 - val_acc: 0.7929\n",
      "\n",
      "Epoch 00016: val_acc did not improve from 0.81429\n",
      "Epoch 17/60\n",
      "36660/36660 [==============================] - 23s 638us/step - loss: 0.0218 - acc: 0.9928 - val_loss: 1.4204 - val_acc: 0.7892\n",
      "\n",
      "Epoch 00017: val_acc did not improve from 0.81429\n",
      "Epoch 18/60\n",
      "36660/36660 [==============================] - 23s 636us/step - loss: 0.0393 - acc: 0.9866 - val_loss: 1.5267 - val_acc: 0.7756\n",
      "\n",
      "Epoch 00018: val_acc did not improve from 0.81429\n",
      "Epoch 19/60\n",
      "36660/36660 [==============================] - 23s 636us/step - loss: 0.0295 - acc: 0.9898 - val_loss: 1.5437 - val_acc: 0.7867\n",
      "\n",
      "Epoch 00019: val_acc did not improve from 0.81429\n",
      "Epoch 20/60\n",
      "36660/36660 [==============================] - 23s 637us/step - loss: 0.0365 - acc: 0.9875 - val_loss: 1.4262 - val_acc: 0.7748\n",
      "\n",
      "Epoch 00020: val_acc did not improve from 0.81429\n",
      "Epoch 21/60\n",
      "36660/36660 [==============================] - 23s 637us/step - loss: 0.0235 - acc: 0.9916 - val_loss: 1.4951 - val_acc: 0.7812\n",
      "\n",
      "Epoch 00021: val_acc did not improve from 0.81429\n",
      "Epoch 22/60\n",
      "36660/36660 [==============================] - 23s 637us/step - loss: 0.0124 - acc: 0.9959 - val_loss: 1.6911 - val_acc: 0.7844\n",
      "\n",
      "Epoch 00022: val_acc did not improve from 0.81429\n",
      "Epoch 23/60\n",
      "36660/36660 [==============================] - 23s 637us/step - loss: 0.0216 - acc: 0.9928 - val_loss: 1.5693 - val_acc: 0.7888\n",
      "\n",
      "Epoch 00023: val_acc did not improve from 0.81429\n",
      "Epoch 24/60\n",
      "36660/36660 [==============================] - 23s 636us/step - loss: 0.0340 - acc: 0.9882 - val_loss: 1.5426 - val_acc: 0.7875\n",
      "\n",
      "Epoch 00024: val_acc did not improve from 0.81429\n",
      "Epoch 25/60\n",
      "36660/36660 [==============================] - 23s 636us/step - loss: 0.0255 - acc: 0.9912 - val_loss: 1.5353 - val_acc: 0.7903\n",
      "\n",
      "Epoch 00025: val_acc did not improve from 0.81429\n",
      "Epoch 26/60\n",
      "36660/36660 [==============================] - 23s 636us/step - loss: 0.0226 - acc: 0.9922 - val_loss: 1.6459 - val_acc: 0.7837\n",
      "\n",
      "Epoch 00026: val_acc did not improve from 0.81429\n",
      "Epoch 27/60\n",
      "36660/36660 [==============================] - 23s 636us/step - loss: 0.0167 - acc: 0.9943 - val_loss: 1.6784 - val_acc: 0.7847\n",
      "\n",
      "Epoch 00027: val_acc did not improve from 0.81429\n",
      "Epoch 28/60\n",
      "36660/36660 [==============================] - 23s 636us/step - loss: 0.0185 - acc: 0.9936 - val_loss: 1.7844 - val_acc: 0.7876\n",
      "\n",
      "Epoch 00028: val_acc did not improve from 0.81429\n",
      "Epoch 29/60\n",
      "36660/36660 [==============================] - 23s 636us/step - loss: 0.0209 - acc: 0.9931 - val_loss: 1.7203 - val_acc: 0.7776\n",
      "\n",
      "Epoch 00029: val_acc did not improve from 0.81429\n",
      "Epoch 30/60\n",
      "36660/36660 [==============================] - 23s 637us/step - loss: 0.0225 - acc: 0.9924 - val_loss: 1.7230 - val_acc: 0.7815\n",
      "\n",
      "Epoch 00030: val_acc did not improve from 0.81429\n",
      "Epoch 31/60\n",
      "36660/36660 [==============================] - 23s 636us/step - loss: 0.0186 - acc: 0.9935 - val_loss: 1.6428 - val_acc: 0.7857\n",
      "\n",
      "Epoch 00031: val_acc did not improve from 0.81429\n",
      "Epoch 32/60\n",
      "36660/36660 [==============================] - 23s 636us/step - loss: 0.0194 - acc: 0.9933 - val_loss: 1.7215 - val_acc: 0.7889\n",
      "\n",
      "Epoch 00032: val_acc did not improve from 0.81429\n",
      "Epoch 33/60\n",
      "36660/36660 [==============================] - 23s 636us/step - loss: 0.0158 - acc: 0.9945 - val_loss: 1.7801 - val_acc: 0.7844\n",
      "\n",
      "Epoch 00033: val_acc did not improve from 0.81429\n",
      "Epoch 34/60\n",
      "36660/36660 [==============================] - 23s 635us/step - loss: 0.0154 - acc: 0.9947 - val_loss: 1.8099 - val_acc: 0.7772\n",
      "\n",
      "Epoch 00034: val_acc did not improve from 0.81429\n",
      "Epoch 35/60\n",
      "36660/36660 [==============================] - 23s 636us/step - loss: 0.0166 - acc: 0.9939 - val_loss: 1.7934 - val_acc: 0.7864\n",
      "\n",
      "Epoch 00035: val_acc did not improve from 0.81429\n",
      "Epoch 36/60\n",
      "36660/36660 [==============================] - 23s 636us/step - loss: 0.0169 - acc: 0.9943 - val_loss: 1.7370 - val_acc: 0.7818\n",
      "\n",
      "Epoch 00036: val_acc did not improve from 0.81429\n",
      "Epoch 37/60\n",
      "36660/36660 [==============================] - 23s 636us/step - loss: 0.0258 - acc: 0.9907 - val_loss: 1.7412 - val_acc: 0.7800\n",
      "\n",
      "Epoch 00037: val_acc did not improve from 0.81429\n",
      "Epoch 38/60\n",
      "36660/36660 [==============================] - 23s 637us/step - loss: 0.0202 - acc: 0.9929 - val_loss: 1.6996 - val_acc: 0.7832\n",
      "\n",
      "Epoch 00038: val_acc did not improve from 0.81429\n",
      "Epoch 39/60\n",
      "36660/36660 [==============================] - 23s 636us/step - loss: 0.0119 - acc: 0.9959 - val_loss: 1.8119 - val_acc: 0.7853\n",
      "\n",
      "Epoch 00039: val_acc did not improve from 0.81429\n",
      "Epoch 40/60\n",
      "36660/36660 [==============================] - 23s 638us/step - loss: 0.0166 - acc: 0.9941 - val_loss: 1.8259 - val_acc: 0.7812\n",
      "\n",
      "Epoch 00040: val_acc did not improve from 0.81429\n",
      "Epoch 41/60\n",
      "36660/36660 [==============================] - 23s 636us/step - loss: 0.0107 - acc: 0.9966 - val_loss: 1.9037 - val_acc: 0.7788\n",
      "\n",
      "Epoch 00041: val_acc did not improve from 0.81429\n",
      "Epoch 42/60\n",
      "36660/36660 [==============================] - 23s 639us/step - loss: 0.0168 - acc: 0.9942 - val_loss: 1.9571 - val_acc: 0.7763\n",
      "\n",
      "Epoch 00042: val_acc did not improve from 0.81429\n",
      "Epoch 43/60\n",
      "36660/36660 [==============================] - 23s 637us/step - loss: 0.0211 - acc: 0.9929 - val_loss: 1.8059 - val_acc: 0.7841\n",
      "\n",
      "Epoch 00043: val_acc did not improve from 0.81429\n",
      "Epoch 44/60\n",
      "36660/36660 [==============================] - 23s 637us/step - loss: 0.0128 - acc: 0.9955 - val_loss: 1.8088 - val_acc: 0.7908\n",
      "\n",
      "Epoch 00044: val_acc did not improve from 0.81429\n",
      "Epoch 45/60\n",
      "36660/36660 [==============================] - 23s 637us/step - loss: 0.0071 - acc: 0.9977 - val_loss: 1.9726 - val_acc: 0.7808\n",
      "\n",
      "Epoch 00045: val_acc did not improve from 0.81429\n",
      "Epoch 46/60\n",
      "36660/36660 [==============================] - 23s 637us/step - loss: 0.0102 - acc: 0.9967 - val_loss: 1.9617 - val_acc: 0.7772\n",
      "\n",
      "Epoch 00046: val_acc did not improve from 0.81429\n",
      "Epoch 47/60\n",
      "36660/36660 [==============================] - 23s 637us/step - loss: 0.0192 - acc: 0.9937 - val_loss: 1.7766 - val_acc: 0.7800\n",
      "\n",
      "Epoch 00047: val_acc did not improve from 0.81429\n",
      "Epoch 48/60\n",
      "36660/36660 [==============================] - 23s 639us/step - loss: 0.0184 - acc: 0.9936 - val_loss: 1.8115 - val_acc: 0.7804\n",
      "\n",
      "Epoch 00048: val_acc did not improve from 0.81429\n",
      "Epoch 49/60\n",
      "36660/36660 [==============================] - 23s 638us/step - loss: 0.0164 - acc: 0.9944 - val_loss: 1.9001 - val_acc: 0.7804\n",
      "\n",
      "Epoch 00049: val_acc did not improve from 0.81429\n",
      "Epoch 50/60\n",
      "36660/36660 [==============================] - 23s 639us/step - loss: 0.0095 - acc: 0.9968 - val_loss: 1.8710 - val_acc: 0.7831\n",
      "\n",
      "Epoch 00050: val_acc did not improve from 0.81429\n",
      "Epoch 51/60\n",
      "36660/36660 [==============================] - 23s 638us/step - loss: 0.0145 - acc: 0.9947 - val_loss: 1.9674 - val_acc: 0.7808\n",
      "\n",
      "Epoch 00051: val_acc did not improve from 0.81429\n",
      "Epoch 52/60\n",
      "36660/36660 [==============================] - 23s 636us/step - loss: 0.0175 - acc: 0.9940 - val_loss: 1.8834 - val_acc: 0.7861\n",
      "\n",
      "Epoch 00052: val_acc did not improve from 0.81429\n",
      "Epoch 53/60\n",
      "36660/36660 [==============================] - 23s 638us/step - loss: 0.0093 - acc: 0.9967 - val_loss: 1.9725 - val_acc: 0.7763\n",
      "\n",
      "Epoch 00053: val_acc did not improve from 0.81429\n",
      "Epoch 54/60\n",
      "36660/36660 [==============================] - 23s 636us/step - loss: 0.0092 - acc: 0.9969 - val_loss: 1.8892 - val_acc: 0.7866\n",
      "\n",
      "Epoch 00054: val_acc did not improve from 0.81429\n",
      "Epoch 55/60\n",
      "36660/36660 [==============================] - 23s 635us/step - loss: 0.0171 - acc: 0.9942 - val_loss: 1.8361 - val_acc: 0.7807\n",
      "\n",
      "Epoch 00055: val_acc did not improve from 0.81429\n",
      "Epoch 56/60\n",
      "36660/36660 [==============================] - 23s 636us/step - loss: 0.0159 - acc: 0.9945 - val_loss: 1.9481 - val_acc: 0.7775\n",
      "\n",
      "Epoch 00056: val_acc did not improve from 0.81429\n",
      "Epoch 57/60\n",
      "36660/36660 [==============================] - 23s 636us/step - loss: 0.0094 - acc: 0.9964 - val_loss: 1.8990 - val_acc: 0.7847\n",
      "\n",
      "Epoch 00057: val_acc did not improve from 0.81429\n",
      "Epoch 58/60\n",
      "36660/36660 [==============================] - 23s 636us/step - loss: 0.0066 - acc: 0.9977 - val_loss: 1.9826 - val_acc: 0.7859\n",
      "\n",
      "Epoch 00058: val_acc did not improve from 0.81429\n",
      "Epoch 59/60\n",
      "36660/36660 [==============================] - 23s 637us/step - loss: 0.0181 - acc: 0.9940 - val_loss: 1.9113 - val_acc: 0.7808\n",
      "\n",
      "Epoch 00059: val_acc did not improve from 0.81429\n",
      "Epoch 60/60\n",
      "36660/36660 [==============================] - 23s 635us/step - loss: 0.0129 - acc: 0.9959 - val_loss: 2.0407 - val_acc: 0.7801\n",
      "\n",
      "Epoch 00060: val_acc did not improve from 0.81429\n"
     ]
    }
   ],
   "source": [
    "model1_hist = model1.fit(x_train, y_train,\n",
    "              batch_size=150,\n",
    "              epochs=nb_epochs,\n",
    "              validation_data=(x_val, y_val),callbacks=[cp])"
   ]
  },
  {
   "cell_type": "code",
   "execution_count": 39,
   "metadata": {
    "colab": {
     "base_uri": "https://localhost:8080/",
     "height": 302
    },
    "colab_type": "code",
    "id": "EaYFOtCIRp3j",
    "outputId": "c7499874-b34f-417c-e2f6-8d630b02ffee"
   },
   "outputs": [
    {
     "data": {
      "image/png": "[encoded data removed]",
      "text/plain": [
       "<matplotlib.figure.Figure at 0x7f68bff9fcf8>"
      ]
     },
     "metadata": {
      "tags": []
     },
     "output_type": "display_data"
    }
   ],
   "source": [
    "import matplotlib.pyplot as plt\n",
    "%matplotlib inline\n",
    "\n",
    "fig1 = plt.figure()\n",
    "plt.plot(model1_hist.history['loss'],'r',linewidth=3.0)\n",
    "plt.plot(model1_hist.history['val_loss'],'b',linewidth=3.0)\n",
    "plt.legend(['Training loss', 'Validation Loss'],fontsize=18)\n",
    "plt.xlabel('Epochs ',fontsize=16)\n",
    "plt.ylabel('Loss',fontsize=16)\n",
    "plt.title('Loss Curves :CNN',fontsize=16)\n",
    "fig1.savefig('loss_cnn.png')\n",
    "plt.show()"
   ]
  },
  {
   "cell_type": "code",
   "execution_count": 40,
   "metadata": {
    "colab": {
     "base_uri": "https://localhost:8080/",
     "height": 302
    },
    "colab_type": "code",
    "id": "Pkm0-j-MSREl",
    "outputId": "bf852a94-e232-4a5c-bb8a-96a57061f73e"
   },
   "outputs": [
    {
     "data": {
      "image/png": "[encoded data removed]",
      "text/plain": [
       "<matplotlib.figure.Figure at 0x7f683b280940>"
      ]
     },
     "metadata": {
      "tags": []
     },
     "output_type": "display_data"
    }
   ],
   "source": [
    "fig2=plt.figure()\n",
    "plt.plot(model1_hist.history['acc'],'r',linewidth=3.0)\n",
    "plt.plot(model1_hist.history['val_acc'],'b',linewidth=3.0)\n",
    "plt.legend(['Training Accuracy', 'Validation Accuracy'],fontsize=18)\n",
    "plt.xlabel('Epochs ',fontsize=16)\n",
    "plt.ylabel('Accuracy',fontsize=16)\n",
    "plt.title('Accuracy Curves : CNN',fontsize=16)\n",
    "fig2.savefig('accuracy_cnn.png')\n",
    "plt.show()"
   ]
  },
  {
   "cell_type": "code",
   "execution_count": 0,
   "metadata": {
    "colab": {},
    "colab_type": "code",
    "id": "bb8QYy0aSZm2"
   },
   "outputs": [],
   "source": [
    "predict = model1.predict(ts_data)"
   ]
  },
  {
   "cell_type": "code",
   "execution_count": 0,
   "metadata": {
    "colab": {},
    "colab_type": "code",
    "id": "0R31dZ6fSh7_"
   },
   "outputs": [],
   "source": [
    "test_classes = predict.argmax(axis=-1)"
   ]
  },
  {
   "cell_type": "code",
   "execution_count": 43,
   "metadata": {
    "colab": {
     "base_uri": "https://localhost:8080/",
     "height": 34
    },
    "colab_type": "code",
    "id": "6Uq8ucb9Srv2",
    "outputId": "1e7387fa-83b3-4341-deda-aab33096b3f9"
   },
   "outputs": [
    {
     "data": {
      "text/plain": [
       "array([5, 1, 1, ..., 5, 5, 1])"
      ]
     },
     "execution_count": 43,
     "metadata": {
      "tags": []
     },
     "output_type": "execute_result"
    }
   ],
   "source": [
    "test_classes"
   ]
  },
  {
   "cell_type": "code",
   "execution_count": 0,
   "metadata": {
    "colab": {},
    "colab_type": "code",
    "id": "Yw6XNelQS0K4"
   },
   "outputs": [],
   "source": [
    "for x in range(0, test_classes.size):\n",
    "  a = test_classes[x]\n",
    "  categories.append(labels_index[a])"
   ]
  },
  {
   "cell_type": "code",
   "execution_count": 0,
   "metadata": {
    "colab": {},
    "colab_type": "code",
    "id": "kiIfYOdNTB8z"
   },
   "outputs": [],
   "source": [
    "test_id = df_test['ID']"
   ]
  },
  {
   "cell_type": "code",
   "execution_count": 47,
   "metadata": {
    "colab": {
     "base_uri": "https://localhost:8080/",
     "height": 34
    },
    "colab_type": "code",
    "id": "sPAAeAXbTeW8",
    "outputId": "f4d625a4-9b4b-4b7c-c083-583395d1dd5f"
   },
   "outputs": [
    {
     "data": {
      "text/plain": [
       "pandas.core.series.Series"
      ]
     },
     "execution_count": 47,
     "metadata": {
      "tags": []
     },
     "output_type": "execute_result"
    }
   ],
   "source": [
    "type(test_id)"
   ]
  },
  {
   "cell_type": "code",
   "execution_count": 0,
   "metadata": {
    "colab": {},
    "colab_type": "code",
    "id": "Hfal9H9OTjQT"
   },
   "outputs": [],
   "source": [
    "submission = pd.DataFrame({'ID':test_id, 'categories':categories})"
   ]
  },
  {
   "cell_type": "code",
   "execution_count": 0,
   "metadata": {
    "colab": {},
    "colab_type": "code",
    "id": "_g_AysupTq8A"
   },
   "outputs": [],
   "source": [
    "submission.to_csv('mysubmission.csv', index= False)"
   ]
  },
  {
   "cell_type": "code",
   "execution_count": 50,
   "metadata": {
    "colab": {
     "base_uri": "https://localhost:8080/",
     "height": 68
    },
    "colab_type": "code",
    "id": "iCbGL_WGTw74",
    "outputId": "710c1474-2121-46a6-80d2-528d40b89936"
   },
   "outputs": [
    {
     "name": "stdout",
     "output_type": "stream",
     "text": [
      "accuracy_cnn.png   model_cnn.hdf5    test.csv\twget-log.1\n",
      "glove.6B.100d.txt  mysubmission.csv  train.csv\twget-log.2\n",
      "loss_cnn.png\t   sample_data\t     wget-log\n"
     ]
    }
   ],
   "source": [
    "!ls"
   ]
  },
  {
   "cell_type": "code",
   "execution_count": 0,
   "metadata": {
    "colab": {},
    "colab_type": "code",
    "id": "7f6wjCpJTzqu"
   },
   "outputs": [],
   "source": [
    "from google.colab import files\n",
    "files.download('mysubmission.csv')"
   ]
  },
  {
   "cell_type": "markdown",
   "metadata": {
    "colab_type": "text",
    "id": "vhDoael0O2YP"
   },
   "source": [
    "#### LSTM - Glow Vector"
   ]
  },
  {
   "cell_type": "code",
   "execution_count": 54,
   "metadata": {
    "colab": {
     "base_uri": "https://localhost:8080/",
     "height": 357
    },
    "colab_type": "code",
    "id": "4LA0kvuGO6Lw",
    "outputId": "cee167f1-8edb-4029-9fa0-45068e91f6c0"
   },
   "outputs": [
    {
     "name": "stdout",
     "output_type": "stream",
     "text": [
      "Neural network using LSTM with Glow Vector\n",
      "_________________________________________________________________\n",
      "Layer (type)                 Output Shape              Param #   \n",
      "=================================================================\n",
      "input_3 (InputLayer)         (None, 1000)              0         \n",
      "_________________________________________________________________\n",
      "embedding_1 (Embedding)      (None, 1000, 100)         3477000   \n",
      "_________________________________________________________________\n",
      "dropout_3 (Dropout)          (None, 1000, 100)         0         \n",
      "_________________________________________________________________\n",
      "lstm_2 (LSTM)                (None, 128)               117248    \n",
      "_________________________________________________________________\n",
      "dropout_4 (Dropout)          (None, 128)               0         \n",
      "_________________________________________________________________\n",
      "dense_4 (Dense)              (None, 6)                 774       \n",
      "=================================================================\n",
      "Total params: 3,595,022\n",
      "Trainable params: 3,595,022\n",
      "Non-trainable params: 0\n",
      "_________________________________________________________________\n"
     ]
    }
   ],
   "source": [
    "from keras.layers import LSTM, Dropout\n",
    "sequence_input = Input(shape=(MAX_SEQUENCE_LENGTH,), dtype='int32')\n",
    "embedded_sequences = embedding_layer(sequence_input)\n",
    "z = Dropout(0.2)(embedded_sequences)\n",
    "z = LSTM(128)(z)\n",
    "z = Dropout(0.4)(z)\n",
    "preds_lstm = Dense(6, activation='softmax')(z)\n",
    "\n",
    "\n",
    "from keras.optimizers import Adam\n",
    "adam = Adam(lr=0.001)\n",
    "model_lstm = Model(sequence_input, preds_lstm)\n",
    "model_lstm.compile(loss='categorical_crossentropy',\n",
    "              optimizer=adam,\n",
    "              metrics=['acc'])\n",
    "print(\"Neural network using LSTM with Glow Vector\")\n",
    "model_lstm.summary()\n",
    "cp=ModelCheckpoint('model_lstm.hdf5',monitor='val_acc',verbose=1,save_best_only=True)"
   ]
  },
  {
   "cell_type": "code",
   "execution_count": 55,
   "metadata": {
    "colab": {
     "base_uri": "https://localhost:8080/",
     "height": 374
    },
    "colab_type": "code",
    "id": "CpKCdW7XO9k1",
    "outputId": "a4e3e4fa-c46c-4eb4-cdda-5766c687471f"
   },
   "outputs": [
    {
     "name": "stdout",
     "output_type": "stream",
     "text": [
      "Train on 36660 samples, validate on 9165 samples\n",
      "Epoch 1/5\n",
      "36660/36660 [==============================] - 761s 21ms/step - loss: 0.8704 - acc: 0.6855 - val_loss: 0.6786 - val_acc: 0.7720\n",
      "\n",
      "Epoch 00001: val_acc improved from -inf to 0.77196, saving model to model_lstm.hdf5\n",
      "Epoch 2/5\n",
      "36660/36660 [==============================] - 759s 21ms/step - loss: 0.5803 - acc: 0.8045 - val_loss: 0.6083 - val_acc: 0.7792\n",
      "\n",
      "Epoch 00002: val_acc improved from 0.77196 to 0.77916, saving model to model_lstm.hdf5\n",
      "Epoch 3/5\n",
      "36660/36660 [==============================] - 758s 21ms/step - loss: 0.4948 - acc: 0.8298 - val_loss: 0.6190 - val_acc: 0.7835\n",
      "\n",
      "Epoch 00003: val_acc improved from 0.77916 to 0.78352, saving model to model_lstm.hdf5\n",
      "Epoch 4/5\n",
      "36660/36660 [==============================] - 755s 21ms/step - loss: 0.4301 - acc: 0.8471 - val_loss: 0.5654 - val_acc: 0.8052\n",
      "\n",
      "Epoch 00004: val_acc improved from 0.78352 to 0.80524, saving model to model_lstm.hdf5\n",
      "Epoch 5/5\n",
      "36660/36660 [==============================] - 753s 21ms/step - loss: 0.3730 - acc: 0.8664 - val_loss: 0.5897 - val_acc: 0.7979\n",
      "\n",
      "Epoch 00005: val_acc did not improve from 0.80524\n"
     ]
    }
   ],
   "source": [
    "model_lstm_hist = model_lstm.fit(x_train, y_train,\n",
    "                  batch_size=128,\n",
    "                  epochs=5,\n",
    "                  validation_data=(x_val, y_val), callbacks=[cp])"
   ]
  },
  {
   "cell_type": "code",
   "execution_count": 56,
   "metadata": {
    "colab": {
     "base_uri": "https://localhost:8080/",
     "height": 302
    },
    "colab_type": "code",
    "id": "Y7nPP3Ko3ko9",
    "outputId": "21e28632-9036-4aaf-e7f1-75f041274f42"
   },
   "outputs": [
    {
     "data": {
      "image/png": "[encoded data removed]",
      "text/plain": [
       "<matplotlib.figure.Figure at 0x7f683b280b00>"
      ]
     },
     "metadata": {
      "tags": []
     },
     "output_type": "display_data"
    }
   ],
   "source": [
    "import matplotlib.pyplot as plt\n",
    "%matplotlib inline\n",
    "\n",
    "fig1 = plt.figure()\n",
    "plt.plot(model_lstm_hist.history['loss'],'r',linewidth=3.0)\n",
    "plt.plot(model_lstm_hist.history['val_loss'],'b',linewidth=3.0)\n",
    "plt.legend(['Training loss', 'Validation Loss'],fontsize=18)\n",
    "plt.xlabel('Epochs ',fontsize=16)\n",
    "plt.ylabel('Loss',fontsize=16)\n",
    "plt.title('Loss Curves :CNN',fontsize=16)\n",
    "fig1.savefig('loss_cnn1.png')\n",
    "plt.show()"
   ]
  },
  {
   "cell_type": "code",
   "execution_count": 57,
   "metadata": {
    "colab": {
     "base_uri": "https://localhost:8080/",
     "height": 302
    },
    "colab_type": "code",
    "id": "Gyl-nNtv3mak",
    "outputId": "7a654b2e-93d1-4680-bfea-4cdc439fbbac"
   },
   "outputs": [
    {
     "data": {
      "image/png": "[encoded data removed]",
      "text/plain": [
       "<matplotlib.figure.Figure at 0x7f681c3dcfd0>"
      ]
     },
     "metadata": {
      "tags": []
     },
     "output_type": "display_data"
    }
   ],
   "source": [
    "fig2=plt.figure()\n",
    "plt.plot(model_lstm_hist.history['acc'],'r',linewidth=3.0)\n",
    "plt.plot(model_lstm_hist.history['val_acc'],'b',linewidth=3.0)\n",
    "plt.legend(['Training Accuracy', 'Validation Accuracy'],fontsize=18)\n",
    "plt.xlabel('Epochs ',fontsize=16)\n",
    "plt.ylabel('Accuracy',fontsize=16)\n",
    "plt.title('Accuracy Curves : CNN',fontsize=16)\n",
    "fig2.savefig('accuracy_cnn1.png')\n",
    "plt.show()"
   ]
  },
  {
   "cell_type": "code",
   "execution_count": 0,
   "metadata": {
    "colab": {},
    "colab_type": "code",
    "id": "DKkSXcr03ruH"
   },
   "outputs": [],
   "source": [
    "predict = model_lstm.predict(ts_data)"
   ]
  },
  {
   "cell_type": "code",
   "execution_count": 0,
   "metadata": {
    "colab": {},
    "colab_type": "code",
    "id": "y3yhluJV3vNU"
   },
   "outputs": [],
   "source": [
    "test_classes = predict.argmax(axis=-1)"
   ]
  },
  {
   "cell_type": "code",
   "execution_count": 0,
   "metadata": {
    "colab": {},
    "colab_type": "code",
    "id": "sVMnMIZe3zNu"
   },
   "outputs": [],
   "source": [
    "for x in range(0, test_classes.size):\n",
    "  a = test_classes[x]\n",
    "  categories.append(labels_index[a])"
   ]
  },
  {
   "cell_type": "code",
   "execution_count": 0,
   "metadata": {
    "colab": {},
    "colab_type": "code",
    "id": "TRpuzj_v34iY"
   },
   "outputs": [],
   "source": [
    "test_id1 = df_test['ID']"
   ]
  },
  {
   "cell_type": "code",
   "execution_count": 0,
   "metadata": {
    "colab": {},
    "colab_type": "code",
    "id": "tJ3axwcG3_EC"
   },
   "outputs": [],
   "source": [
    "submission = pd.DataFrame({'ID':test_id1, 'categories':categories})"
   ]
  },
  {
   "cell_type": "code",
   "execution_count": 0,
   "metadata": {
    "colab": {},
    "colab_type": "code",
    "id": "0IESfRr24APD"
   },
   "outputs": [],
   "source": [
    "submission.to_csv('mysubmission1.csv', index= False)"
   ]
  },
  {
   "cell_type": "code",
   "execution_count": 0,
   "metadata": {
    "colab": {},
    "colab_type": "code",
    "id": "fL87fVlG4DcA"
   },
   "outputs": [],
   "source": [
    "!ls"
   ]
  },
  {
   "cell_type": "code",
   "execution_count": 0,
   "metadata": {
    "colab": {},
    "colab_type": "code",
    "id": "N-VsD1jQ4I2m"
   },
   "outputs": [],
   "source": [
    "from google.colab import files\n",
    "files.download('mysubmission1.csv')"
   ]
  }
 ],
 "metadata": {
  "accelerator": "GPU",
  "colab": {
   "collapsed_sections": [],
   "name": "Niroop_CUTe_5.ipynb",
   "provenance": [],
   "version": "0.3.2"
  },
  "kernelspec": {
   "display_name": "Python 3",
   "language": "python",
   "name": "python3"
  },
  "language_info": {
   "codemirror_mode": {
    "name": "ipython",
    "version": 3
   },
   "file_extension": ".py",
   "mimetype": "text/x-python",
   "name": "python",
   "nbconvert_exporter": "python",
   "pygments_lexer": "ipython3",
   "version": "3.6.6"
  }
 },
 "nbformat": 4,
 "nbformat_minor": 1
}
